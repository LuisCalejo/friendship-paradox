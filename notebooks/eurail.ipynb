{
 "cells": [
  {
   "cell_type": "code",
   "execution_count": 1,
   "id": "49b5b827",
   "metadata": {},
   "outputs": [
    {
     "name": "stdout",
     "output_type": "stream",
     "text": [
      "Intel MKL WARNING: Support of Intel(R) Streaming SIMD Extensions 4.2 (Intel(R) SSE4.2) enabled only processors has been deprecated. Intel oneAPI Math Kernel Library 2025.0 will require Intel(R) Advanced Vector Extensions (Intel(R) AVX) instructions.\n",
      "Intel MKL WARNING: Support of Intel(R) Streaming SIMD Extensions 4.2 (Intel(R) SSE4.2) enabled only processors has been deprecated. Intel oneAPI Math Kernel Library 2025.0 will require Intel(R) Advanced Vector Extensions (Intel(R) AVX) instructions.\n"
     ]
    }
   ],
   "source": [
    "import pandas as pd\n",
    "from geopy.geocoders import Nominatim"
   ]
  },
  {
   "cell_type": "code",
   "execution_count": 2,
   "id": "4f15473e",
   "metadata": {},
   "outputs": [],
   "source": [
    "df_cities = pd.read_csv('../data/eurail/cities.csv')\n",
    "df_routes = pd.read_csv('../data/eurail/routes.csv')"
   ]
  },
  {
   "cell_type": "code",
   "execution_count": null,
   "id": "53229a23",
   "metadata": {},
   "outputs": [],
   "source": []
  },
  {
   "cell_type": "code",
   "execution_count": 3,
   "id": "83232bb8",
   "metadata": {},
   "outputs": [],
   "source": [
    "cities = [x for x in df_cities['city']]\n",
    "routes = [x for x in df_routes.apply(lambda x: (x['from'],x['to']), axis = 1)]\n",
    "routes += [x for x in df_routes.apply(lambda x: (x['to'],x['from']), axis = 1)]\n",
    "routes_cities = [x[0] for x in routes] + [x[1] for x in routes]\n",
    "# filter cities that have zero routes:\n",
    "cities = [x[0] for x in routes] + [x[1] for x in routes]\n",
    "cities = set(cities)"
   ]
  },
  {
   "cell_type": "code",
   "execution_count": 4,
   "id": "4fb7a40b",
   "metadata": {},
   "outputs": [],
   "source": [
    "city_routes = {}\n",
    "city_nr_of_connections = {}\n",
    "for city in cities:\n",
    "    city_routes[city] = [route for route in routes if route[0] == city]\n",
    "    city_nr_of_connections[city] = len(city_routes[city])"
   ]
  },
  {
   "cell_type": "code",
   "execution_count": 5,
   "id": "f0741e6a",
   "metadata": {},
   "outputs": [],
   "source": [
    "city_nr_of_connections_of_connections = {}\n",
    "city_friendship_paradox = {}\n",
    "city_is_central = {}\n",
    "for city in cities:\n",
    "    nr_of_connections_of_connections = [city_nr_of_connections[route[1]] for route in city_routes[city]]\n",
    "    city_nr_of_connections_of_connections[city] = sum(nr_of_connections_of_connections)/len(nr_of_connections_of_connections)\n",
    "    if city_nr_of_connections_of_connections[city] > city_nr_of_connections[city]:\n",
    "        city_friendship_paradox[city] = True\n",
    "        city_is_central[city] = False\n",
    "    else:\n",
    "        city_friendship_paradox[city] = False\n",
    "        if city_nr_of_connections_of_connections[city] < city_nr_of_connections[city]:\n",
    "            city_is_central[city] = True\n",
    "        else:\n",
    "            city_is_central[city] = False\n"
   ]
  },
  {
   "cell_type": "code",
   "execution_count": null,
   "id": "85c29a1e",
   "metadata": {},
   "outputs": [],
   "source": []
  },
  {
   "cell_type": "code",
   "execution_count": 6,
   "id": "357420d7",
   "metadata": {},
   "outputs": [],
   "source": [
    "avg_connections = sum(city_nr_of_connections.values()) / len(city_nr_of_connections)\n",
    "avg_connections_of_connections = sum(city_nr_of_connections_of_connections.values()) / len(city_nr_of_connections_of_connections)"
   ]
  },
  {
   "cell_type": "code",
   "execution_count": 7,
   "id": "214cb746",
   "metadata": {},
   "outputs": [
    {
     "data": {
      "text/plain": [
       "2.7142857142857144"
      ]
     },
     "execution_count": 7,
     "metadata": {},
     "output_type": "execute_result"
    }
   ],
   "source": [
    "avg_connections"
   ]
  },
  {
   "cell_type": "code",
   "execution_count": 8,
   "id": "fde7cfea",
   "metadata": {},
   "outputs": [
    {
     "data": {
      "text/plain": [
       "3.802876984126983"
      ]
     },
     "execution_count": 8,
     "metadata": {},
     "output_type": "execute_result"
    }
   ],
   "source": [
    "avg_connections_of_connections"
   ]
  },
  {
   "cell_type": "code",
   "execution_count": 9,
   "id": "30caa402",
   "metadata": {},
   "outputs": [
    {
     "data": {
      "text/plain": [
       "0.6428571428571429"
      ]
     },
     "execution_count": 9,
     "metadata": {},
     "output_type": "execute_result"
    }
   ],
   "source": [
    "sum(city_friendship_paradox.values())/len(city_friendship_paradox.values())"
   ]
  },
  {
   "cell_type": "code",
   "execution_count": 10,
   "id": "c8e1d15d",
   "metadata": {},
   "outputs": [],
   "source": [
    "# geolocator = Nominatim(user_agent=\"FriendshipParadoxApp\")\n",
    "\n",
    "# def get_coordinates(city):\n",
    "#     location = geolocator.geocode(city)\n",
    "#     if location:\n",
    "#         return (location.latitude, location.longitude)\n",
    "#     else:\n",
    "#         return None\n",
    "\n",
    "# coordinates = {city: get_coordinates(city) for city in cities}\n",
    "\n",
    "# for city, coord in coordinates.items():\n",
    "#     print(f\"{city}: {coord}\")"
   ]
  },
  {
   "cell_type": "code",
   "execution_count": 11,
   "id": "278eeeb2",
   "metadata": {},
   "outputs": [
    {
     "data": {
      "text/plain": [
       "0.05952380952380952"
      ]
     },
     "execution_count": 11,
     "metadata": {},
     "output_type": "execute_result"
    }
   ],
   "source": [
    "sum([city_nr_of_connections[city] == city_nr_of_connections_of_connections[city] for city in cities])/len(cities)"
   ]
  },
  {
   "cell_type": "code",
   "execution_count": 12,
   "id": "20700324",
   "metadata": {},
   "outputs": [
    {
     "data": {
      "text/plain": [
       "84"
      ]
     },
     "execution_count": 12,
     "metadata": {},
     "output_type": "execute_result"
    }
   ],
   "source": [
    "len(cities)"
   ]
  },
  {
   "cell_type": "code",
   "execution_count": 13,
   "id": "f40b4e70",
   "metadata": {},
   "outputs": [
    {
     "data": {
      "text/plain": [
       "['Frankfurt',\n",
       " 'Lisbon',\n",
       " 'London',\n",
       " 'Dublin',\n",
       " 'Igoumenitsa',\n",
       " 'Helsinki',\n",
       " 'Zagreb',\n",
       " 'Stockholm',\n",
       " 'Paris',\n",
       " 'Brussels',\n",
       " 'Milan',\n",
       " 'Sofia',\n",
       " 'Vilnius',\n",
       " 'Barcelona',\n",
       " 'Belgrade',\n",
       " 'Berlin',\n",
       " 'Warsaw',\n",
       " 'Athens',\n",
       " 'Edinburgh',\n",
       " 'Lyon',\n",
       " 'Madrid',\n",
       " 'Marseille',\n",
       " 'Budapest',\n",
       " 'Munich',\n",
       " 'Rome']"
      ]
     },
     "execution_count": 13,
     "metadata": {},
     "output_type": "execute_result"
    }
   ],
   "source": [
    "# Central cities (super spreaders)\n",
    "[city for city in cities if city_nr_of_connections[city] > city_nr_of_connections_of_connections[city]]"
   ]
  },
  {
   "cell_type": "code",
   "execution_count": 191,
   "id": "bddaacb0",
   "metadata": {},
   "outputs": [],
   "source": [
    "df_cities['is_central'] = [city_is_central[x] for x in df_cities['city']]\n",
    "df_cities[[x in cities for x in df_cities['city']]].to_csv('../data/cities_animation.csv')"
   ]
  },
  {
   "cell_type": "code",
   "execution_count": 192,
   "id": "b954cd38",
   "metadata": {},
   "outputs": [],
   "source": [
    "df_routes_animation = df_routes\n",
    "df_routes_animation = df_routes_animation[[x in cities for x in df_routes_animation['from']]]\n",
    "df_routes_animation = df_routes_animation[[x in cities for x in df_routes_animation['to']]]\n",
    "df_routes_animation.to_csv('../data/routes_animation.csv')"
   ]
  },
  {
   "cell_type": "code",
   "execution_count": 14,
   "id": "a5d5302e",
   "metadata": {},
   "outputs": [
    {
     "name": "stdout",
     "output_type": "stream",
     "text": [
      "['Jacqui_4774', 'internet2047', 'estell_car92061', 'PEBrussart', 'gqo17', 'professeurtim', 'Ilaydamio', 'Omarsy891', 'DJamesBus', 'AlmiraSilabay', 'RovellaSia', 'Grewdon_GG21', 'jtsnutella', 'Dewotttwo', 'RlyRlyKool', 'Sleepy_Kouhai', 'sannies_dimples']\n"
     ]
    }
   ],
   "source": [
    "# Define the dictionary with the lists of followers\n",
    "followers_dict = {\n",
    "    \"WalooV6_h12\": [\n",
    "        \"Jacqui_4774\",\n",
    "        \"internet2047\",\n",
    "        \"estell_car92061\",\n",
    "        \"PEBrussart\",\n",
    "        \"gqo17\",\n",
    "        \"professeurtim\",\n",
    "        \"Ilaydamio\",\n",
    "        \"Omarsy891\",\n",
    "        \"DJamesBus\",\n",
    "        \"AlmiraSilabay\",\n",
    "        \"RovellaSia\"\n",
    "    ],\n",
    "    \"RedTotey_h12\": [\n",
    "        \"Grewdon_GG21\",\n",
    "        \"jtsnutella\",\n",
    "        \"Dewotttwo\",\n",
    "        \"RlyRlyKool\",\n",
    "        \"Sleepy_Kouhai\",\n",
    "        \"sannies_dimples\",\n",
    "    ]\n",
    "}\n",
    "\n",
    "# Merge all follower lists into a single list\n",
    "all_followers = [follower for followers_list in followers_dict.values() for follower in followers_list]\n",
    "\n",
    "# Now, 'all_followers' contains the merged list of all followers\n",
    "print(all_followers)\n"
   ]
  },
  {
   "cell_type": "code",
   "execution_count": 15,
   "id": "f0bfcc76",
   "metadata": {},
   "outputs": [
    {
     "data": {
      "text/plain": [
       "dict_values([['Jacqui_4774', 'internet2047', 'estell_car92061', 'PEBrussart', 'gqo17', 'professeurtim', 'Ilaydamio', 'Omarsy891', 'DJamesBus', 'AlmiraSilabay', 'RovellaSia'], ['Grewdon_GG21', 'jtsnutella', 'Dewotttwo', 'RlyRlyKool', 'Sleepy_Kouhai', 'sannies_dimples']])"
      ]
     },
     "execution_count": 15,
     "metadata": {},
     "output_type": "execute_result"
    }
   ],
   "source": [
    "followers_dict.values() "
   ]
  },
  {
   "cell_type": "code",
   "execution_count": null,
   "id": "18c3334d",
   "metadata": {},
   "outputs": [],
   "source": []
  }
 ],
 "metadata": {
  "kernelspec": {
   "display_name": "Python 3 (ipykernel)",
   "language": "python",
   "name": "python3"
  },
  "language_info": {
   "codemirror_mode": {
    "name": "ipython",
    "version": 3
   },
   "file_extension": ".py",
   "mimetype": "text/x-python",
   "name": "python",
   "nbconvert_exporter": "python",
   "pygments_lexer": "ipython3",
   "version": "3.9.17"
  }
 },
 "nbformat": 4,
 "nbformat_minor": 5
}
